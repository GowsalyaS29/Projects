{
 "cells": [
  {
   "cell_type": "code",
   "execution_count": 12,
   "id": "c3778303",
   "metadata": {},
   "outputs": [
    {
     "name": "stdout",
     "output_type": "stream",
     "text": [
      "Requirement already satisfied: opencv-python in c:\\users\\gowsa\\anaconda3\\envs\\project1\\lib\\site-packages (4.5.3.56)\n",
      "Requirement already satisfied: numpy>=1.13.3 in c:\\users\\gowsa\\anaconda3\\envs\\project1\\lib\\site-packages (from opencv-python) (1.19.2)\n"
     ]
    }
   ],
   "source": [
    "!pip install opencv-python\n",
    "import cv2\n",
    "import keras"
   ]
  },
  {
   "cell_type": "code",
   "execution_count": 13,
   "id": "3c697cfb",
   "metadata": {},
   "outputs": [],
   "source": [
    "import numpy as np"
   ]
  },
  {
   "cell_type": "code",
   "execution_count": 14,
   "id": "7a736af0",
   "metadata": {},
   "outputs": [],
   "source": [
    "PETS = ['Cat','Dog']\n",
    "\n",
    "def image(path):\n",
    "    print(path)\n",
    "    img = cv2.imread(path,cv2.IMREAD_GRAYSCALE)\n",
    "    print(img)\n",
    "    try:\n",
    "        img = cv2.resize(img,(100,100))\n",
    "    except cv2.error as e:\n",
    "        print(\"Invalid Image\")\n",
    "    img = np.array(img)\n",
    "    img = img.reshape(-1,100,100,1)\n",
    "    print(img.shape)\n",
    "    return img\n"
   ]
  },
  {
   "cell_type": "code",
   "execution_count": 15,
   "id": "f6afade9",
   "metadata": {},
   "outputs": [],
   "source": [
    "model = keras.models.load_model('Tuning.model')"
   ]
  },
  {
   "cell_type": "code",
   "execution_count": 17,
   "id": "3d2f5226",
   "metadata": {},
   "outputs": [
    {
     "name": "stdout",
     "output_type": "stream",
     "text": [
      "C:\\Gows\\Testing\\Dog.jpg\n",
      "[[255 211 199 ... 201 208 210]\n",
      " [222 157 125 ... 107 106 104]\n",
      " [237 157 110 ...  93  88  86]\n",
      " ...\n",
      " [254 251 248 ... 238 238 240]\n",
      " [254 253 251 ... 244 244 245]\n",
      " [253 253 253 ... 249 248 249]]\n",
      "(1, 100, 100, 1)\n",
      "Dog\n"
     ]
    }
   ],
   "source": [
    "prediction = model.predict([image('C:\\Gows\\Testing\\Dog.jpg')])\n",
    "print(PETS[prediction.argmax()])"
   ]
  },
  {
   "cell_type": "code",
   "execution_count": null,
   "id": "868c6784",
   "metadata": {},
   "outputs": [],
   "source": []
  }
 ],
 "metadata": {
  "kernelspec": {
   "display_name": "Python 3",
   "language": "python",
   "name": "python3"
  },
  "language_info": {
   "codemirror_mode": {
    "name": "ipython",
    "version": 3
   },
   "file_extension": ".py",
   "mimetype": "text/x-python",
   "name": "python",
   "nbconvert_exporter": "python",
   "pygments_lexer": "ipython3",
   "version": "3.6.4"
  }
 },
 "nbformat": 4,
 "nbformat_minor": 5
}
